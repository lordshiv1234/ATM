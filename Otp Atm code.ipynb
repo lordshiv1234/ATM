{
 "cells": [
  {
   "cell_type": "code",
   "execution_count": 1,
   "id": "4e5ce93e",
   "metadata": {},
   "outputs": [
    {
     "name": "stdout",
     "output_type": "stream",
     "text": [
      "Thanks for using our ATM OTP for your transaction is :\n",
      " 166638\n"
     ]
    }
   ],
   "source": [
    "import random\n",
    "for i in range(0,1):\n",
    "    n=random.randint(111111,999999)\n",
    "print(\"Thanks for using our ATM OTP for your transaction is :\\n\", n)"
   ]
  },
  {
   "cell_type": "code",
   "execution_count": null,
   "id": "9afd3f69",
   "metadata": {},
   "outputs": [],
   "source": [
    "print(\"hello world\")"
   ]
  },
  {
   "cell_type": "code",
   "execution_count": null,
   "id": "6d9f70cd",
   "metadata": {},
   "outputs": [],
   "source": [
    "print(\"hello shivam\")"
   ]
  }
 ],
 "metadata": {
  "kernelspec": {
   "display_name": "Python 3 (ipykernel)",
   "language": "python",
   "name": "python3"
  },
  "language_info": {
   "codemirror_mode": {
    "name": "ipython",
    "version": 3
   },
   "file_extension": ".py",
   "mimetype": "text/x-python",
   "name": "python",
   "nbconvert_exporter": "python",
   "pygments_lexer": "ipython3",
   "version": "3.9.12"
  }
 },
 "nbformat": 4,
 "nbformat_minor": 5
}
